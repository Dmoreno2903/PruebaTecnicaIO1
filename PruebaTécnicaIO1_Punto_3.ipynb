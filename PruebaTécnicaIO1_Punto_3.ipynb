{
  "nbformat": 4,
  "nbformat_minor": 0,
  "metadata": {
    "colab": {
      "provenance": [],
      "authorship_tag": "ABX9TyNJfnU2OxpOD5jYrVfAE2J8",
      "include_colab_link": true
    },
    "kernelspec": {
      "name": "python3",
      "display_name": "Python 3"
    },
    "language_info": {
      "name": "python"
    }
  },
  "cells": [
    {
      "cell_type": "markdown",
      "metadata": {
        "id": "view-in-github",
        "colab_type": "text"
      },
      "source": [
        "<a href=\"https://colab.research.google.com/github/Dmoreno2903/PruebaTecnicaIO1/blob/main/PruebaT%C3%A9cnicaIO1_Punto_3.ipynb\" target=\"_parent\"><img src=\"https://colab.research.google.com/assets/colab-badge.svg\" alt=\"Open In Colab\"/></a>"
      ]
    },
    {
      "cell_type": "markdown",
      "source": [
        "Prueba técnica IO1 - - Punto 3"
      ],
      "metadata": {
        "id": "G7AvRG0878_t"
      }
    },
    {
      "cell_type": "code",
      "source": [
        "\n",
        "import cvxpy as cp\n",
        "import numpy as np\n",
        "\n",
        "def exercise_1A():\n",
        "  X = cp.Variable(integer = True)     # Se declara la variable X\n",
        "  Y = cp.Variable(integer = True)     # Se declara la variable Y\n",
        "\n",
        "  A = cp.Parameter(integer = True, value = 3)     # Se declara el primer parámetro y se le asigna el valor de 3\n",
        "  B = cp.Parameter(integer = True, value = 8)     # Se declara el segundo parámetro y se le asigna el valor de 8\n",
        "\n",
        "  set_restrictions = [X + Y >= 50, X - Y <= 20, X >= 0, Y >= 0]     # Declaramos las restricciones\n",
        "\n",
        "  set_problem = cp.Problem(cp.Minimize(A *X + B * Y), set_restrictions)     # Declaramos el problema de minimización\n",
        "\n",
        "  get_solution = set_problem.solve()     # Resolvemos el módelo usando la función solve()\n",
        "  X_optimo = X.value   # Obtenemos el valor de X óptimo\n",
        "  Y_optimo = Y.value   # Obtenemos el valor de Y óptimo\n",
        "\n",
        "  return get_solution, X_optimo, Y_optimo\n",
        "\n",
        "def exercise_1B():\n",
        "  X = cp.Variable()     # Nuevamente se declara la variable X\n",
        "  Y = cp.Variable()     # Nuevamente se declara la variable Y\n",
        "\n",
        "  # Para esta solución no usaremos cp.Parameter()\n",
        "\n",
        "  set_objective = cp.Minimize(3 * X + 8 * Y)     # Definimos la función objetivo\n",
        "\n",
        "  set_restrictions = [X + Y >= 50, X - Y <= 20, X >= 0, Y >= 0]     # Declaramos las restricciones\n",
        "\n",
        "  set_problem = cp.Problem(set_objective, set_restrictions)     # Declaramos el problema de minimización\n",
        "  \n",
        "  # Usando esta solución, nos arroja una solución decimal\n",
        "\n",
        "  get_solution = set_problem.solve()     # Resolvemos el módelo usando la función solve()\n",
        "  X_optimo = X.value     # Obtenemos el valor de X óptimo\n",
        "  Y_optimo = Y.value     # Obtenemos el valor de Y óptimo\n",
        "\n",
        "  #Usando la libreria numpy, convertimos todos los nparray con valores flotantes en enteros\n",
        "\n",
        "  get_solution = get_solution.astype(int)\n",
        "  X_optimo = X_optimo.astype(int)\n",
        "  Y_optimo = Y_optimo.astype(int)\n",
        "\n",
        "  return get_solution, X_optimo, Y_optimo\n",
        "\n",
        "def val_solutions(array):\n",
        "  X = int(array[1])     # Convertimos el valor de X en entero\n",
        "  Y = int(array[2])     # Convertimos el valor de Y en entero\n",
        "\n",
        "  restrictions = [X + Y >= 50, X - Y <= 20, X >= 0, Y >= 0]      # Evaluamos las restricciones\n",
        "\n",
        "  cantidad_Falses = list(filter(lambda x: x == False, restrictions))     # Buscamos las restricciones que no se cumplen, en cuyo caso retornamos False\n",
        "\n",
        "  restriction_not = restrictions.index(False) if len(cantidad_Falses) != 0 else None     # Buscamos el indice del la restriccion que no se cumple\n",
        "\n",
        "  return True if len(cantidad_Falses) == 0 else False, int(array[0]), restriction_not\n",
        "\n",
        "def conclusion(array):\n",
        "  modelo_restric = [\"X + Y >= 50\", \"X - Y <= 20\", \"X >= 0\", \"Y >= 0\"]\n",
        "\n",
        "  method_one = array[0]     # Obtenemos el resultado de la solución 1\n",
        "  method_two = array[1]     # Obtenemos el resultado de la solución 2\n",
        "\n",
        "  if method_one[0] == False or method_two[0] == False:     # Observamos si alguna no cumple con todas las restricciones\n",
        "    if method_two[0] == False:\n",
        "      return f\"La solución 2 no  es óptima debido a que no cumple con todas las restricciones. No cumple la restricción {modelo_restric[method_two[2]]}\"\n",
        "    else:\n",
        "      return f\"La solución 1 no  es óptima debido a que no cumple con todas las restricciones. . No cumple la restricción {modelo_restric[method_one[2]]}\"\n",
        "  else:\n",
        "    if method_one[2] < method_two[2]:\n",
        "      return f\"Aunque ambas soluciones cumplen con las restricciones, la solución óptima es la número 1 ya que minimiza la función objetivo: {method_one[2]} < {method_two[2]}\"\n",
        "    elif method_two[2] < method_one[2]:\n",
        "      return f\"Aunque ambas soluciones cumplen con las restricciones, la solución óptima es la número 2 ya que minimiza la función objetivo: {method_two[2]} < {method_one[2]}\"\n",
        "    else:\n",
        "      return \"Ambas soluciones son óptimas\"\n",
        "\n",
        "\n",
        "resultados_solucion1 = exercise_1A()\n",
        "resultados_solucion2 = exercise_1B()\n",
        "\n",
        "print(f\"Solución 1\\nX = {resultados_solucion1[1]}\\nY = {resultados_solucion1[2]}\\nSolución = {resultados_solucion1[0]}\\n\")\n",
        "print(f\"Solución 2\\nX = {resultados_solucion2[1]}\\nY = {resultados_solucion2[2]}\\nSolución = {resultados_solucion2[0]}\\n\")\n",
        "\n",
        "conclusion([val_solutions(resultados_solucion1), val_solutions(resultados_solucion2)])"
      ],
      "metadata": {
        "id": "3ozWHVoYWtSg"
      },
      "execution_count": null,
      "outputs": []
    }
  ]
}