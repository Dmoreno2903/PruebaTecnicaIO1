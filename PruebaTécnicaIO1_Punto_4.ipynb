{
  "nbformat": 4,
  "nbformat_minor": 0,
  "metadata": {
    "colab": {
      "provenance": [],
      "authorship_tag": "ABX9TyOLPWVVAfpcfHb1YQJHFAJw",
      "include_colab_link": true
    },
    "kernelspec": {
      "name": "python3",
      "display_name": "Python 3"
    },
    "language_info": {
      "name": "python"
    }
  },
  "cells": [
    {
      "cell_type": "markdown",
      "metadata": {
        "id": "view-in-github",
        "colab_type": "text"
      },
      "source": [
        "<a href=\"https://colab.research.google.com/github/Dmoreno2903/PruebaTecnicaIO1/blob/main/PruebaT%C3%A9cnicaIO1_Punto_4.ipynb\" target=\"_parent\"><img src=\"https://colab.research.google.com/assets/colab-badge.svg\" alt=\"Open In Colab\"/></a>"
      ]
    },
    {
      "cell_type": "markdown",
      "source": [
        "PruebaTécnicaIO1 -- Punto 4"
      ],
      "metadata": {
        "id": "_OWhYlDN8H9V"
      }
    },
    {
      "cell_type": "code",
      "execution_count": null,
      "metadata": {
        "id": "ojz0ID4x8FAZ"
      },
      "outputs": [],
      "source": [
        "from numpy import e\n",
        "from scipy.optimize import linprog\n",
        "\n",
        "coef_fo = [3, 8]     # Definimos los coeficientes de la función objetivo\n",
        "\n",
        "# La función linprog de scipy minimiza, por lo tanto todas las restricciones deben ser <=\n",
        "# Convertimos todas las restricciones\n",
        "\n",
        "coef_rest = [[-1, -1], [1, -1]]     # Definimos los coeficientes de las restricciones\n",
        "\n",
        "coef_res = [-50, 20]\n",
        "\n",
        "X = (0, None)    # Restriccion de mayor o igual a cero para X\n",
        "Y = (0, None)    # Restriccion de mayor o igual a cero para Y\n",
        "\n",
        "# Usando el método simplex obtenemos\n",
        "optima_simplex = linprog(coef_fo, coef_rest, coef_res, bounds = (X,Y), method = \"simplex\")\n",
        "\n",
        "# Usando el método de límites obtenemos\n",
        "optima_highs = linprog(coef_fo, coef_rest, coef_res, bounds = (X,Y), method = \"highs\")\n",
        "\n",
        "result_simplex = optima_simplex.fun     # Obtenemos el valor óptimo usando simplex\n",
        "result_highs = optima_highs.fun     # Obtenemos el valor óptimo usando highs\n",
        "\n",
        "optimos_simplex = optima_simplex.x     # Obtenemos los valores óptimos de X y Y por el método simplex\n",
        "optimos_highs = optima_highs.x     # Obtenemos los valores óptimos de X y Y por el método highs\n",
        "\n",
        "print(f\"SIMPLEX\\nX = {optimos_simplex[0]}\\nY = {optimos_simplex[1]}\\nSolución = {result_simplex}\\n\")\n",
        "print(f\"HIGHS\\nX = {optimos_highs[0]}\\nY = {optimos_highs[1]}\\nSolución = {result_highs}\\n\")\n",
        "\n",
        "if result_simplex == result_highs:\n",
        "  print(\"Por ambos métodos la solución es igual\")\n",
        "else:\n",
        "  print(f\"Difieren por:\\nX = {optimos_simplex[0] - optimos_highs[0]}\")\n",
        "  print(f\"Y = {optimos_simplex[1] - optimos_highs[1]}\")\n"
      ]
    }
  ]
}